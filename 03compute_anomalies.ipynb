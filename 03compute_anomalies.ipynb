{
 "cells": [
  {
   "cell_type": "markdown",
   "metadata": {},
   "source": [
    "### <center> This notebook uses the created climatologies and baselines to compute the climatological and intraseasonal anomaly"
   ]
  },
  {
   "cell_type": "code",
   "execution_count": 58,
   "metadata": {},
   "outputs": [],
   "source": [
    "import xarray as xr\n",
    "import matplotlib.pyplot as plt\n",
    "import matplotlib.colors as mcolors\n",
    "import numpy as np\n",
    "import pandas as pd\n",
    "from glob import glob\n",
    "import scipy.signal as signal\n",
    "import tqdm"
   ]
  },
  {
   "cell_type": "markdown",
   "metadata": {},
   "source": [
    "## <center> S2S"
   ]
  },
  {
   "cell_type": "markdown",
   "metadata": {},
   "source": [
    "Load datasets"
   ]
  },
  {
   "cell_type": "code",
   "execution_count": 3,
   "metadata": {},
   "outputs": [],
   "source": [
    "# Load tropical and coastal S2S data\n",
    "s2s_tropical = xr.open_dataset('data/HOVMOLLERS/S2S_hovmoller_tropical_2000-2022.nc', decode_timedelta=False)\n",
    "s2s_coast    = xr.open_dataset('data/HOVMOLLERS/S2S_hovmoller_coastsouth_2000-2022.nc', decode_timedelta=False)\n",
    " \n",
    "trueforecasts = s2s_tropical.inittime.drop_duplicates('inittime')\n",
    "# Join to a single hovmoller\n",
    "s2s          = xr.concat([s2s_tropical, s2s_coast], 'distance')\n",
    "# Drop duplicates and interpolate weekly data to daily\n",
    "s2s          = s2s.drop_duplicates('inittime').resample({'inittime':'d'}).interpolate()\n",
    "\n",
    "forecastkind = np.isnan(trueforecasts.reindex({'inittime':s2s.inittime.values}))"
   ]
  },
  {
   "cell_type": "code",
   "execution_count": 4,
   "metadata": {},
   "outputs": [],
   "source": [
    "# Load tropical and coastal S2S baselines and climatologies\n",
    "s2s_tropical_baseline = xr.open_dataset('data/HOVMOLLERS/INTRASEASONAL_BASELINES/S2S_intraseasonal-baseline_tropical_2000-2022.nc', decode_timedelta=False)\n",
    "s2s_coast_baseline    = xr.open_dataset('data/HOVMOLLERS/INTRASEASONAL_BASELINES/S2S_intraseasonal-baseline_coastsouth_2000-2022.nc', decode_timedelta=False) \n",
    "# Join to a single hovmoller\n",
    "s2s_baseline          = xr.concat([s2s_tropical_baseline, s2s_coast_baseline], 'distance')\n",
    "# Drop duplicates and interpolate weekly data to daily\n",
    "s2s_baseline          = s2s_baseline.drop_duplicates('inittime').resample({'inittime':'d'}).interpolate()\n",
    "\n",
    "# Load climatology\n",
    "s2s_tropical_clim     = xr.open_dataset('data/HOVMOLLERS/CLIMATOLOGIES/S2S_climatology_tropical_2000-2020.nc', decode_timedelta=False)\n",
    "s2s_coast_clim        = xr.open_dataset('data/HOVMOLLERS/CLIMATOLOGIES/S2S_climatology_coastsouth_2000-2020.nc', decode_timedelta=False)\n",
    "s2s_clim              = xr.concat([s2s_tropical_clim, s2s_coast_clim], 'distance')"
   ]
  },
  {
   "cell_type": "code",
   "execution_count": 5,
   "metadata": {},
   "outputs": [],
   "source": [
    "# Compute S2S anomalies and intraseasonal anomalies\n",
    "s2s_anom  = s2s.groupby('inittime.dayofyear')-s2s_clim\n",
    "s2s_ianom = s2s-s2s_baseline"
   ]
  },
  {
   "cell_type": "code",
   "execution_count": 8,
   "metadata": {},
   "outputs": [],
   "source": [
    "encoding_opts = {var: dict(zlib=True, complevel=5) for var in s2s_anom.data_vars}\n",
    "s2s_anom.to_netcdf('data/HOVMOLLERS/CLIMATOLOGICAL_ANOMALIES/S2S_tropical-coastsouth_anomaly.nc', encoding=encoding_opts)\n",
    "s2s_ianom.to_netcdf('data/HOVMOLLERS/INTRASEASONAL_ANOMALIES/S2S_tropical-coastsouth_isanomaly.nc', encoding=encoding_opts)"
   ]
  },
  {
   "cell_type": "markdown",
   "metadata": {},
   "source": [
    "---"
   ]
  },
  {
   "cell_type": "code",
   "execution_count": 61,
   "metadata": {},
   "outputs": [
    {
     "name": "stdout",
     "output_type": "stream",
     "text": [
      "GLORYS 2000-2020\n",
      "<xarray.Dataset>\n",
      "Dimensions:    (time: 7671, distance: 2154)\n",
      "Coordinates:\n",
      "  * time       (time) datetime64[ns] 2000-01-01T12:00:00 ... 2020-12-31T12:00:00\n",
      "  * distance   (distance) float64 0.0 9.266 18.53 ... 2.154e+04 2.155e+04\n",
      "    lat        (distance) float64 0.0 0.0 0.0 0.0 ... -39.75 -39.83 -39.92 -40.0\n",
      "    lon        (distance) float64 140.0 140.1 140.2 140.2 ... 286.6 286.3 286.2\n",
      "    index      (distance) int64 0 1 2 3 4 5 6 ... 2148 2149 2150 2151 2152 2153\n",
      "    dayofyear  (time) int64 1 2 3 4 5 6 7 8 ... 359 360 361 362 363 364 365 366\n",
      "Data variables:\n",
      "    zos        (time, distance) float64 0.06261 0.06237 0.06197 ... nan nan nan\n",
      "    T300       (time, distance) float64 0.7776 0.7764 0.7782 ... nan nan nan\n",
      "    sst        (time, distance) float64 0.5213 0.5254 0.5306 ... nan nan nan \n",
      "\n",
      "\n",
      "SEALEVEL 1999-2021\n",
      "<xarray.Dataset>\n",
      "Dimensions:    (time: 8401, distance: 718)\n",
      "Coordinates:\n",
      "  * time       (time) datetime64[ns] 1999-01-01 1999-01-02 ... 2021-12-31\n",
      "  * distance   (distance) float64 0.0 27.8 55.6 ... 2.127e+04 2.129e+04\n",
      "    lat        (distance) float64 0.0 0.0 0.0 0.0 ... -39.38 -39.62 -39.88\n",
      "    lon        (distance) float64 140.1 140.4 140.6 140.9 ... 286.6 286.6 286.6\n",
      "    index      (distance) int64 0 1 2 3 4 5 6 7 ... 711 712 713 714 715 716 717\n",
      "    dayofyear  (time) int64 1 2 3 4 5 6 7 8 ... 358 359 360 361 362 363 364 365\n",
      "Data variables:\n",
      "    zos        (time, distance) float64 -0.05933 -0.05867 ... 0.01328 0.01839 \n",
      "\n",
      "\n",
      "ERA5 2000-2022\n",
      "<xarray.Dataset>\n",
      "Dimensions:    (time: 8401, distance: 858)\n",
      "Coordinates:\n",
      "  * time       (time) datetime64[ns] 2000-01-01 2000-01-02 ... 2022-12-31\n",
      "  * distance   (distance) float64 0.0 27.8 55.6 ... 2.528e+04 2.531e+04\n",
      "    lat        (distance) float64 0.0 0.0 0.0 0.0 ... -44.25 -44.5 -44.75 -45.0\n",
      "    lon        (distance) float64 110.0 110.2 110.5 110.8 ... 279.2 279.0 279.0\n",
      "    index      (distance) int64 0 1 2 3 4 5 6 7 ... 851 852 853 854 855 856 857\n",
      "    dayofyear  (time) int64 1 2 3 4 5 6 7 8 ... 358 359 360 361 362 363 364 365\n",
      "Data variables:\n",
      "    u          (time, distance) float64 -0.692 -0.5675 ... -0.0882 -0.1907\n",
      "    v          (time, distance) float64 -0.02351 0.0483 ... -4.829 -4.413\n",
      "    taux       (time, distance) float64 -85.2 -110.6 -65.32 ... 492.5 449.4\n",
      "    tauy       (time, distance) float64 73.02 93.55 ... -1.998e+03 -2.455e+03\n",
      "    ws         (time, distance) float64 -0.7155 -0.6719 -0.6532 ... 2.621 2.464\n",
      "    tau        (time, distance) float64 -193.3 -233.7 ... 1.317e+03 1.566e+03 \n",
      "\n",
      "\n"
     ]
    }
   ],
   "source": [
    "# name,drange = 'GLORYS','2000-2020'\n",
    "for name,drange in zip(['GLORYS','SEALEVEL','ERA5'],['2000-2020','1999-2021','2000-2022']):\n",
    "    print(name,drange)\n",
    "    tropical    = xr.open_dataset(f'data/HOVMOLLERS/{name}_hovmoller_tropical_{drange}.nc')\n",
    "    coast       = xr.open_dataset(f'data/HOVMOLLERS/{name}_hovmoller_coastsouth_{drange}.nc')\n",
    "    hovmoller   = xr.concat([tropical,coast],'distance')\n",
    "\n",
    "    tropical_baseline = xr.open_dataset(f'data/HOVMOLLERS/INTRASEASONAL_BASELINES/{name}_intraseasonal-baseline_tropical_{drange}.nc')\n",
    "    coast_baseline    = xr.open_dataset(f'data/HOVMOLLERS/INTRASEASONAL_BASELINES/{name}_intraseasonal-baseline_coastsouth_{drange}.nc')\n",
    "    baseline          = xr.concat([tropical_baseline, coast_baseline], 'distance')\n",
    "\n",
    "    tropical_clim = xr.open_dataset(f'data/HOVMOLLERS/CLIMATOLOGIES/{name}_climatology_tropical_2000-2020.nc')\n",
    "    coast_clim    = xr.open_dataset(f'data/HOVMOLLERS/CLIMATOLOGIES/{name}_climatology_coastsouth_2000-2020.nc')\n",
    "    clim          = xr.concat([tropical_clim, coast_clim], 'distance')\n",
    "\n",
    "    anomaly  = hovmoller.groupby('time.dayofyear')-clim\n",
    "    ianomaly = hovmoller-baseline.reindex({'time':hovmoller.time.values}, method='nearest')\n",
    "\n",
    "    encoding_opts = {var: dict(zlib=True, complevel=5) for var in anomaly.data_vars}\n",
    "    anomaly.to_netcdf(f'data/HOVMOLLERS/CLIMATOLOGICAL_ANOMALIES/{name}_tropical-coastsouth_anomaly.nc', encoding=encoding_opts)\n",
    "    ianomaly.to_netcdf(f'data/HOVMOLLERS/INTRASEASONAL_ANOMALIES/{name}_tropical-coastsouth_isanomaly.nc', encoding=encoding_opts)\n",
    "    print(anomaly,'\\n\\n')\n"
   ]
  }
 ],
 "metadata": {
  "kernelspec": {
   "display_name": "main",
   "language": "python",
   "name": "python3"
  },
  "language_info": {
   "codemirror_mode": {
    "name": "ipython",
    "version": 3
   },
   "file_extension": ".py",
   "mimetype": "text/x-python",
   "name": "python",
   "nbconvert_exporter": "python",
   "pygments_lexer": "ipython3",
   "version": "3.8.13"
  },
  "orig_nbformat": 4
 },
 "nbformat": 4,
 "nbformat_minor": 2
}
