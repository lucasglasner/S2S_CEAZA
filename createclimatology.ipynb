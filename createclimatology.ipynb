{
 "cells": [
  {
   "cell_type": "code",
   "execution_count": 1,
   "metadata": {},
   "outputs": [],
   "source": [
    "import xarray as xr\n",
    "import matplotlib.pyplot as plt\n",
    "import matplotlib.colors as mcolors\n",
    "import numpy as np\n",
    "import pandas as pd\n",
    "from glob import glob\n",
    "import scipy.signal as signal"
   ]
  },
  {
   "cell_type": "code",
   "execution_count": 2,
   "metadata": {},
   "outputs": [],
   "source": [
    "\n",
    "def filter_timeseries(ts, order, cutoff, btype='lowpass', fs=1, **kwargs):\n",
    "    \"\"\"Given an array, this function apply a butterworth (high/low pass) \n",
    "    filter of the given order and cutoff frequency.\n",
    "    For example:\n",
    "    If 'ts' is a timeseries of daily samples, filter_timeseries(ts,3,1/20)\n",
    "    will return the series without the 20 days or less variability using an\n",
    "    order 3 butterworth filter. \n",
    "    In the same way, filter_timeseries(ts,3,1/20, btype='highpass') will\n",
    "    return the series with only the 20 days or less variability.\n",
    "\n",
    "    Args:\n",
    "        ts (array_like): timeseries or 1D array to filter\n",
    "        order (int): _description_\n",
    "        cutoff (array_like): Single float for lowpass or highpass filters, \n",
    "        arraylike for bandpass filters.\n",
    "        btype (str, optional): The type of filter. Defaults to 'lowpass'.\n",
    "        fs (int): Sampling frequency. Defaults to 1\n",
    "        **kwargs are passed to scipy.signal.filtfilt\n",
    "\n",
    "    Returns:\n",
    "        output (array): Filtered array\n",
    "    \"\"\"\n",
    "    mask = np.isnan(ts)\n",
    "    nans = np.ones(len(ts))*np.nan\n",
    "    if mask.sum()==len(ts):\n",
    "        return nans\n",
    "    else:\n",
    "        b, a = signal.butter(order, cutoff, btype=btype, fs=fs)\n",
    "        filt=signal.filtfilt(b, a, ts[~mask], padlen=30*max(len(a),len(b)), **kwargs)\n",
    "        output=np.ones(len(ts))*np.nan\n",
    "        output[np.where(~mask)] = filt\n",
    "        return output\n",
    "    \n",
    "def filter_xarray(data, dim, order, cutoff, btype='lowpass', parallel=False, fs=1):\n",
    "    \"\"\"Given a 3d DataArray, with time and spatial coordinates, this function apply\n",
    "    the 1D function filter_timeseries along the time dimension, filter the complete\n",
    "    xarray data.\n",
    "\n",
    "    Args:\n",
    "        data (XDataArray): data\n",
    "        dim (str): name of the time dimension\n",
    "        order (int): butterworth filter order\n",
    "        cutoff (array_like): if float, the cutoff frequency, if array must be the\n",
    "                            [min,max] frequencys for the bandpass filter.\n",
    "        btype (str, optional): {lowpass,highpass,bandpass}. Defaults to 'lowpass'.\n",
    "        parallel (bool, optional): If parallelize with dask. Defaults to False.\n",
    "        fs (int, optional): Sampling frequency. Defaults to 1.\n",
    "\n",
    "    Returns:\n",
    "        XDataArray: filtered data\n",
    "    \"\"\"\n",
    "    if parallel:\n",
    "        dask='parallelized'\n",
    "    else:\n",
    "        dask='forbidden'\n",
    "    filt = xr.apply_ufunc(filter_timeseries, data, order, cutoff, btype, fs,\n",
    "                          input_core_dims=[[dim],[],[],[],[]],\n",
    "                          output_core_dims=[[dim]],\n",
    "                          exclude_dims=set((dim,)),\n",
    "                          keep_attrs=True,\n",
    "                          vectorize=True, dask=dask)\n",
    "    filt[dim] = data[dim]\n",
    "    return filt\n",
    "\n"
   ]
  },
  {
   "cell_type": "code",
   "execution_count": 3,
   "metadata": {},
   "outputs": [],
   "source": [
    "tropical_glorys       = xr.open_dataset('data/GLORYS12V1/HOVMOLLERS/glorys_tropical.nc').swap_dims({'lon':'index'}).convert_calendar('noleap', dim='time')\n",
    "tropical_reforecast   = xr.open_dataset('data/S2S/HOVMOLLERS/reforecasts_tropical.nc').swap_dims({'lon':'index'}).convert_calendar('noleap', dim='inittime')\n",
    "\n",
    "coastnorth_glorys     = xr.open_dataset('data/GLORYS12V1/HOVMOLLERS/glorys_coastnorth.nc').swap_dims({'lat':'index'}).convert_calendar('noleap', dim='time')\n",
    "coastnorth_reforecast = xr.open_dataset('data/S2S/HOVMOLLERS/reforecasts_coastnorth.nc').swap_dims({'lat':'index'}).convert_calendar('noleap', dim='inittime')\n",
    "\n",
    "coastsouth_glorys     = xr.open_dataset('data/GLORYS12V1/HOVMOLLERS/glorys_coastsouth.nc').swap_dims({'lat':'index'}).convert_calendar('noleap', dim='time')\n",
    "coastsouth_reforecast = xr.open_dataset('data/S2S/HOVMOLLERS/reforecasts_coastsouth.nc').swap_dims({'lat':'index'}).convert_calendar('noleap', dim='inittime')"
   ]
  },
  {
   "cell_type": "code",
   "execution_count": 7,
   "metadata": {},
   "outputs": [],
   "source": [
    "\n",
    "filter_xarray(tropical_glorys.groupby('time.dayofyear').mean(),'dayofyear',5,1/60).to_netcdf('/home/lucas/storage/glorys_tropical.nc')\n",
    "filter_xarray(coastnorth_glorys.groupby('time.dayofyear').mean(),'dayofyear',5,1/60).to_netcdf('/home/lucas/storage/glorys_coastnorth.nc')\n",
    "filter_xarray(coastsouth_glorys.groupby('time.dayofyear').mean(),'dayofyear',5,1/60).to_netcdf('/home/lucas/storage/glorys_coastsouth.nc')"
   ]
  },
  {
   "cell_type": "code",
   "execution_count": null,
   "metadata": {},
   "outputs": [],
   "source": [
    "tropical_reforecast_clim   = []\n",
    "coastnorth_reforecast_clim = []\n",
    "coastsouth_reforecast_clim = []\n",
    "for lead in range(len(tropical_reforecast.leadtime)):\n",
    "    data = tropical_reforecast.sel(leadtime=lead)\n",
    "    data.coords['time'] = ('inittime', data.inittime.values+pd.Timedelta(days=lead))\n",
    "    data = data.swap_dims({'inittime':'time'}).drop('inittime').groupby('time.dayofyear').mean()\n",
    "    data = data.interp({'dayofyear':np.arange(1,366)}).ffill('dayofyear').bfill('dayofyear')\n",
    "    data = filter_xarray(data, 'dayofyear', 5, 1/60)\n",
    "    tropical_reforecast_clim.append(data)\n",
    "    \n",
    "    data = coastnorth_reforecast.sel(leadtime=lead)\n",
    "    data.coords['time'] = ('inittime', data.inittime.values+pd.Timedelta(days=lead))\n",
    "    data = data.swap_dims({'inittime':'time'}).drop('inittime').groupby('time.dayofyear').mean()\n",
    "    data = data.interp({'dayofyear':np.arange(1,366)}).ffill('dayofyear').bfill('dayofyear')\n",
    "    data = filter_xarray(data, 'dayofyear', 5, 1/60)\n",
    "    coastnorth_reforecast_clim.append(data)\n",
    "    \n",
    "    data = coastsouth_reforecast.sel(leadtime=lead)\n",
    "    data.coords['time'] = ('inittime', data.inittime.values+pd.Timedelta(days=lead))\n",
    "    data = data.swap_dims({'inittime':'time'}).drop('inittime').groupby('time.dayofyear').mean()\n",
    "    data = data.interp({'dayofyear':np.arange(1,366)}).ffill('dayofyear').bfill('dayofyear')\n",
    "    data = filter_xarray(data, 'dayofyear', 5, 1/60)\n",
    "    coastsouth_reforecast_clim.append(data)\n",
    "    \n",
    "tropical_reforecast_clim   = xr.concat(tropical_reforecast_clim, 'leadtime')\n",
    "coastnorth_reforecast_clim = xr.concat(coastnorth_reforecast_clim, 'leadtime')\n",
    "coastsouth_reforecast_clim = xr.concat(coastsouth_reforecast_clim, 'leadtime')"
   ]
  },
  {
   "cell_type": "code",
   "execution_count": null,
   "metadata": {},
   "outputs": [],
   "source": [
    "coastsouth_reforecast_clim.to_netcdf('data/S2S/CLIMATOLOGY/reforecasts_coastsouth_clim.nc')\n",
    "coastnorth_reforecast_clim.to_netcdf('data/S2S/CLIMATOLOGY/reforecasts_coastnorth_clim.nc')\n",
    "tropical_reforecast_clim.to_netcdf('data/S2S/CLIMATOLOGY/reforecasts_tropical_clim.nc')"
   ]
  }
 ],
 "metadata": {
  "kernelspec": {
   "display_name": "main",
   "language": "python",
   "name": "python3"
  },
  "language_info": {
   "codemirror_mode": {
    "name": "ipython",
    "version": 3
   },
   "file_extension": ".py",
   "mimetype": "text/x-python",
   "name": "python",
   "nbconvert_exporter": "python",
   "pygments_lexer": "ipython3",
   "version": "3.8.13"
  },
  "orig_nbformat": 4
 },
 "nbformat": 4,
 "nbformat_minor": 2
}
