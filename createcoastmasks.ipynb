{
 "cells": [
  {
   "cell_type": "code",
   "execution_count": 2,
   "metadata": {},
   "outputs": [],
   "source": [
    "\n",
    "from glob import glob\n",
    "import xarray as xr\n",
    "import cartopy.crs as ccrs\n",
    "import cartopy.feature as cf\n",
    "import numpy as np\n",
    "import pandas as pd\n",
    "import matplotlib.pyplot as plt\n",
    "import matplotlib.colors as mcolors\n",
    "import scipy.signal as signal\n",
    "from scipy.interpolate import interp1d\n",
    "import os"
   ]
  },
  {
   "cell_type": "code",
   "execution_count": 117,
   "metadata": {},
   "outputs": [],
   "source": [
    "reforecast = xr.open_dataset('data/S2S/reforecasts/2020-01-06/merged.nc')\n",
    "reforecast = reforecast.sortby('lat').sortby('lon').sel({'lon':slice(220,290),'lat':slice(-40,40)})\n",
    "reforecast = reforecast.assign_coords({'i':('lat',range(len(reforecast.lat))),'j':('lon',range(len(reforecast.lon)))})"
   ]
  },
  {
   "cell_type": "code",
   "execution_count": 60,
   "metadata": {},
   "outputs": [],
   "source": [
    "lon,lat = np.meshgrid(reforecast.lon,reforecast.lat)"
   ]
  },
  {
   "cell_type": "code",
   "execution_count": 220,
   "metadata": {},
   "outputs": [],
   "source": [
    "tropicalmask = reforecast.dslm[0,0,:,:].where(reforecast.lat>=-2).where(reforecast.lat<=2)\n",
    "tropicalmask = xr.where(~np.isnan(tropicalmask),1,0)\n",
    "\n",
    "watermask = reforecast.dslm[0,0,:,:].fillna(-9999)\n",
    "watermask = xr.where(watermask==-9999,0,1)\n",
    "watermask = watermask.differentiate('lon')!=0\n",
    "watermask = watermask.where(watermask).ffill('lon').bfill('lon',limit=1)\n",
    "x = xr.concat([watermask[i,:].dropna('lon').isel(lon=0).j for i in range(len(watermask.lat))],'lat')\n",
    "watermask = xr.where(watermask==9999,1,0)\n",
    "watermask[:,x[:]] = 1\n",
    "watermask[23,[65,67]]=1\n",
    "watermask[33,58]=1\n",
    "watermask[37,58]=1\n",
    "watermask[47,[58,59,60]]=1\n",
    "watermask[48,56]=1\n",
    "watermask[53,[48,49,50]]=1\n",
    "watermask[55,[42,43,44,45]]=1\n",
    "watermask[55,[42,43,44,45]]=1\n",
    "watermask[56,[39,40]]=1\n",
    "watermask[58,[35,36,37]]=1\n",
    "watermask[62,[29,30,31,32]]=1\n",
    "watermask[64,27]=1\n",
    "watermask[74,19]=1\n",
    "watermask = watermask.where(abs(reforecast.lat)>2).fillna(0)\n",
    "\n",
    "\n",
    "coastmask_south = watermask.sel(lat=slice(-90,-2))\n",
    "coastmask_north = watermask.sel(lat=slice(2,90))\n"
   ]
  },
  {
   "cell_type": "code",
   "execution_count": 226,
   "metadata": {},
   "outputs": [],
   "source": [
    "tropicalmask.to_netcdf('data/TROPICALMASK.nc')\n",
    "coastmask_north.to_netcdf('data/COASTNORTHMASK.nc')\n",
    "coastmask_south.to_netcdf('data/COASTSOUTHMASK.nc')"
   ]
  }
 ],
 "metadata": {
  "kernelspec": {
   "display_name": "forecast",
   "language": "python",
   "name": "python3"
  },
  "language_info": {
   "codemirror_mode": {
    "name": "ipython",
    "version": 3
   },
   "file_extension": ".py",
   "mimetype": "text/x-python",
   "name": "python",
   "nbconvert_exporter": "python",
   "pygments_lexer": "ipython3",
   "version": "3.10.8"
  },
  "orig_nbformat": 4
 },
 "nbformat": 4,
 "nbformat_minor": 2
}
