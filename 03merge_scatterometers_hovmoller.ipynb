{
 "cells": [
  {
   "cell_type": "markdown",
   "metadata": {},
   "source": [
    "### <center> In this notebook i will load the ASCAT and QuikSCAT dataset and merge them in a single scatterometer wind dataset. \n",
    "\n",
    "The approach is quite simple: first the QuikSCAT and ASCAT hovmollerrs will be loaded in the overlapping period, then a simple linear regression will be built based on this data. Finally the linear regression will be used to correct ascat data towards quikscat-kind values. "
   ]
  },
  {
   "cell_type": "code",
   "execution_count": 1,
   "metadata": {},
   "outputs": [
    {
     "data": {
      "text/plain": [
       "<dask.config.set at 0x7f046cf7f1f0>"
      ]
     },
     "execution_count": 1,
     "metadata": {},
     "output_type": "execute_result"
    }
   ],
   "source": [
    "# Imports\n",
    "import xarray as xr\n",
    "import numpy as np\n",
    "import pandas as pd\n",
    "from glob import glob\n",
    "import matplotlib.pyplot as plt\n",
    "import cartopy.crs as ccrs\n",
    "import cartopy.feature as cf\n",
    "import scipy.stats as st\n",
    "# Just for supressing an annoying warning\n",
    "import dask\n",
    "dask.config.set({\"array.slicing.split_large_chunks\": False})"
   ]
  },
  {
   "cell_type": "code",
   "execution_count": 2,
   "metadata": {},
   "outputs": [],
   "source": [
    "# Define the overlapping period\n",
    "overlap_period = pd.date_range('2007-03-21 12:00:00','2009-11-17 12:00:00', freq='d')"
   ]
  },
  {
   "cell_type": "code",
   "execution_count": 3,
   "metadata": {},
   "outputs": [],
   "source": [
    "ascat_t    = xr.open_dataset('data/HOVMOLLERS/ASCAT_hovmoller_tropical_2007-2022.nc').reindex({'time':overlap_period})\n",
    "quikscat_t = xr.open_dataset('data/HOVMOLLERS/QuikSCAT_hovmoller_tropical_1999-2009.nc').reindex({'time':overlap_period})"
   ]
  },
  {
   "cell_type": "code",
   "execution_count": 4,
   "metadata": {},
   "outputs": [
    {
     "name": "stdout",
     "output_type": "stream",
     "text": [
      "taux\n",
      "tauy\n",
      "tau\n"
     ]
    }
   ],
   "source": [
    "# Compute linear regression parameters for the globe\n",
    "def apply_linmodel(x,y,out):\n",
    "    if np.isnan(x).sum() == len(x):\n",
    "        return np.nan\n",
    "    mask = ~np.isnan(x) & ~np.isnan(y)\n",
    "    model = st.linregress(x[mask],y[mask])\n",
    "    return eval(f'model.{out}')\n",
    "\n",
    "x,y       = ascat_t,quikscat_t\n",
    "# x,y       = x.chunk({'time':-1, 'lon':-1, 'lat':20}),y.chunk({'time':-1, 'lon':-1, 'lat':20})\n",
    "linmodels = []\n",
    "for v in ['taux','tauy','tau']:\n",
    "    print(v)\n",
    "    slope     = xr.apply_ufunc(apply_linmodel,x[v],y[v],'slope', input_core_dims=[['time'],['time'],[]], vectorize=True, dask= \"forbidden\")\n",
    "    intercept = xr.apply_ufunc(apply_linmodel,x[v],y[v],'intercept', input_core_dims=[['time'],['time'],[]], vectorize=True, dask=\"forbidden\")\n",
    "    rvalue    = xr.apply_ufunc(apply_linmodel,x[v],y[v],'rvalue', input_core_dims=[['time'],['time'],[]], vectorize=True, dask=\"forbidden\")**2\n",
    "    pvalue    = xr.apply_ufunc(apply_linmodel,x[v],y[v],'pvalue', input_core_dims=[['time'],['time'],[]], vectorize=True, dask=\"forbidden\")\n",
    "    lm = xr.concat([slope,intercept,rvalue,pvalue],'parameter')\n",
    "    lm.coords['parameter'] = ['slope','intercept','rsquared','pvalue']\n",
    "    linmodels.append(lm.to_dataset(name=f'lm_{v}'))\n",
    "linmodels = xr.merge(linmodels)"
   ]
  },
  {
   "cell_type": "code",
   "execution_count": 6,
   "metadata": {},
   "outputs": [
    {
     "data": {
      "text/plain": [
       "[<matplotlib.lines.Line2D at 0x7f02daac2290>]"
      ]
     },
     "execution_count": 6,
     "metadata": {},
     "output_type": "execute_result"
    },
    {
     "data": {
      "image/png": "[encoded data removed]",
      "text/plain": [
       "<Figure size 432x288 with 1 Axes>"
      ]
     },
     "metadata": {
      "needs_background": "light"
     },
     "output_type": "display_data"
    }
   ],
   "source": [
    "linmodels.lm_taux.sel(parameter='rsquared').plot(x='lon')"
   ]
  }
 ],
 "metadata": {
  "kernelspec": {
   "display_name": "main",
   "language": "python",
   "name": "python3"
  },
  "language_info": {
   "codemirror_mode": {
    "name": "ipython",
    "version": 3
   },
   "file_extension": ".py",
   "mimetype": "text/x-python",
   "name": "python",
   "nbconvert_exporter": "python",
   "pygments_lexer": "ipython3",
   "version": "3.10.8"
  },
  "orig_nbformat": 4
 },
 "nbformat": 4,
 "nbformat_minor": 2
}
