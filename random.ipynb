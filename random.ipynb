{
 "cells": [
  {
   "cell_type": "markdown",
   "metadata": {},
   "source": [
    "### <center> This notebook is just for trying random stuff"
   ]
  },
  {
   "cell_type": "code",
   "execution_count": 70,
   "metadata": {},
   "outputs": [],
   "source": [
    "import xarray as xr\n",
    "import numpy as np\n",
    "import pandas as pd\n",
    "import matplotlib.pyplot as plt\n",
    "from airsea.windstress import stress"
   ]
  },
  {
   "cell_type": "code",
   "execution_count": 109,
   "metadata": {},
   "outputs": [],
   "source": [
    "# Compute ekman transport along the coast\n",
    "era5  = xr.open_dataset('data/HOVMOLLERS/ERA5_hovmoller_coastsouth_2000-2022.nc')\n",
    "era5  = era5.sel(time=slice('2001','2011'))\n",
    "\n",
    "f     = 2*np.sin(era5.lat*np.pi/180)*(2*np.pi/(24*3600))\n",
    "ekman = era5.tauy/1025/f/3600 \n",
    "ekman = ekman.swap_dims({'distance':'lat'}).sortby('lat').sel(lat=slice(-34,-25)).groupby('time.season').mean().sel(season='SON')"
   ]
  }
 ],
 "metadata": {
  "kernelspec": {
   "display_name": "main",
   "language": "python",
   "name": "python3"
  },
  "language_info": {
   "codemirror_mode": {
    "name": "ipython",
    "version": 3
   },
   "file_extension": ".py",
   "mimetype": "text/x-python",
   "name": "python",
   "nbconvert_exporter": "python",
   "pygments_lexer": "ipython3",
   "version": "3.8.13"
  },
  "orig_nbformat": 4
 },
 "nbformat": 4,
 "nbformat_minor": 2
}
